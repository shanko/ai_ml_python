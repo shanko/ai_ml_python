{
 "cells": [
  {
   "cell_type": "code",
   "execution_count": null,
   "id": "3448f6f0-cfae-4b9d-80b0-d75de442f850",
   "metadata": {},
   "outputs": [],
   "source": [
    "print(\"hello world\")"
   ]
  },
  {
   "cell_type": "code",
   "execution_count": null,
   "id": "a6412026-f3ad-4d76-9fdb-20ddaed2239d",
   "metadata": {},
   "outputs": [],
   "source": [
    "import os\n",
    "my_variable_value = os.getenv('OPENAI_API_KEY', 'default_value')\n",
    "print(f\"MY_VARIABLE: {my_variable_value}\")"
   ]
  },
  {
   "cell_type": "code",
   "execution_count": 3,
   "id": "25c46c16-d2a2-4a52-ae68-f93a47c7bd08",
   "metadata": {},
   "outputs": [
    {
     "name": "stdout",
     "output_type": "stream",
     "text": [
      "Here is a limerick about the wonders of GPU computing:\n",
      "\n",
      "There once was a GPU so fine,\n",
      "Whose computing powers did shine.\n",
      "It crunched with great zest,\n",
      "Through tasks that were a test,\n",
      "Accelerating code all the time!"
     ]
    }
   ],
   "source": [
    "run tst_nvidia.py"
   ]
  },
  {
   "cell_type": "code",
   "execution_count": null,
   "id": "5504e7f3-5337-4d53-a540-3f3c81e9094c",
   "metadata": {},
   "outputs": [],
   "source": []
  }
 ],
 "metadata": {
  "kernelspec": {
   "display_name": "Python 3 (ipykernel)",
   "language": "python",
   "name": "python3"
  },
  "language_info": {
   "codemirror_mode": {
    "name": "ipython",
    "version": 3
   },
   "file_extension": ".py",
   "mimetype": "text/x-python",
   "name": "python",
   "nbconvert_exporter": "python",
   "pygments_lexer": "ipython3",
   "version": "3.11.11"
  }
 },
 "nbformat": 4,
 "nbformat_minor": 5
}
